{
 "cells": [
  {
   "cell_type": "markdown",
   "metadata": {},
   "source": [
    "### Используется, написанный на 4ом семинаре агент для Q обучения."
   ]
  },
  {
   "cell_type": "code",
   "execution_count": 1,
   "metadata": {},
   "outputs": [],
   "source": [
    "import random, math\n",
    "\n",
    "import numpy as np\n",
    "from collections import defaultdict\n",
    "\n",
    "\n",
    "class QLearningAgent():\n",
    "    \"\"\"\n",
    "    Q-Learning агент\n",
    "\n",
    "    Замечание: избегайте прямое использование \n",
    "    self._q_values, для этого определены \n",
    "    функции: get_q_value, set_q_value\n",
    "    \"\"\"\n",
    "\n",
    "    def __init__(self, alpha, epsilon, discount, \n",
    "                 get_legal_actions):\n",
    "        self.get_legal_actions = get_legal_actions\n",
    "        self._q_values = \\\n",
    "            defaultdict(lambda: defaultdict(lambda: 0))  \n",
    "        self.alpha = alpha\n",
    "        self.epsilon = epsilon\n",
    "        self.discount = discount\n",
    "\n",
    "    def get_q_value(self, state, action):\n",
    "        return self._q_values[state][action]\n",
    "\n",
    "    def set_q_value(self, state, action, value):\n",
    "        self._q_values[state][action] = value"
   ]
  },
  {
   "cell_type": "markdown",
   "metadata": {},
   "source": [
    "Добавим нашему агенту возможность вычислять оценки $V$:"
   ]
  },
  {
   "cell_type": "code",
   "execution_count": 2,
   "metadata": {},
   "outputs": [],
   "source": [
    "def get_value(self, state):\n",
    "    \"\"\"\n",
    "      Возвращает значение функции полезности, \n",
    "      рассчитанной по Q[state, action], \n",
    "    \"\"\"\n",
    "    possible_actions = self.get_legal_actions(state)\n",
    "\n",
    "    # value = \n",
    "    #~~~~~~~~ Ваш код здесь ~~~~~~~~~~~    \n",
    "    #raise NotImplementedError  \n",
    "    value = max([self.get_q_value(state, action) for action in possible_actions])\n",
    "    #~~~~~~~~~~~~~~~~~~~~~~~~~~~~~~~~~~\n",
    "    \n",
    "    return value\n",
    "\n",
    "QLearningAgent.get_value = get_value"
   ]
  },
  {
   "cell_type": "markdown",
   "metadata": {},
   "source": [
    "Стратегия нашего агента будет заключаться в выборе лучшего действия, в соответствии с оценками $Q$:"
   ]
  },
  {
   "cell_type": "code",
   "execution_count": 3,
   "metadata": {},
   "outputs": [],
   "source": [
    "def get_policy(self, state):\n",
    "    \"\"\"\n",
    "      Выбирает лучшее действие, согласно стратегии.\n",
    "    \"\"\"\n",
    "    possible_actions = self.get_legal_actions(state)\n",
    "    \n",
    "    # выбираем лучшее действие, согласно стратегии\n",
    "    #best_action = \n",
    "    #~~~~~~~~ Ваш код здесь ~~~~~~~~~~~    \n",
    "    #raise NotImplementedError    \n",
    "    best_one = np.max(np.array([self.get_q_value(state, action) for action in possible_actions]))\n",
    "    best_action = [action for action in possible_actions if self.get_q_value(state, action) == best_one]\n",
    "    #~~~~~~~~~~~~~~~~~~~~~~~~~~~~~~~~~~\n",
    "    \n",
    "    return best_action\n",
    "\n",
    "QLearningAgent.get_policy = get_policy"
   ]
  },
  {
   "cell_type": "markdown",
   "metadata": {},
   "source": [
    "Для конкретной ситуации мы будем выбирать действие, используя $\\epsilon$-жадный подход:"
   ]
  },
  {
   "cell_type": "code",
   "execution_count": 4,
   "metadata": {},
   "outputs": [],
   "source": [
    "def get_action(self, state):\n",
    "    \"\"\"\n",
    "      Выбирает действие, предпринимаемое в данном \n",
    "      состоянии, включая исследование (eps greedy)\n",
    "      С вероятностью self.epsilon берем случайное \n",
    "      действие, иначе действие согласно стратегии \n",
    "      (self.get_policy)\n",
    "    \"\"\"\n",
    "    possible_actions = self.get_legal_actions(state)\n",
    "\n",
    "    # выбираем действие, используя eps-greedy подход\n",
    "    # action = \n",
    "    #~~~~~~~~ Ваш код здесь ~~~~~~~~~~~    \n",
    "    #raise NotImplementedError   \n",
    "    a = self.get_policy(state)\n",
    "    n = len(possible_actions)\n",
    "    n_max = len(a)\n",
    "    if n == n_max:\n",
    "        create_probablities = [1/n_max for i in possible_actions]\n",
    "    else:\n",
    "        create_probablities = [(1 - self.epsilon)/n_max if i in a else self.epsilon/(n-n_max) \\\n",
    "                                                                   for i in possible_actions ]\n",
    "    \n",
    "    action = np.random.choice(a = possible_actions, p = create_probablities)\n",
    "    #~~~~~~~~~~~~~~~~~~~~~~~~~~~~~~~~~~\n",
    "    \n",
    "    return action\n",
    "\n",
    "QLearningAgent.get_action = get_action"
   ]
  },
  {
   "cell_type": "code",
   "execution_count": 5,
   "metadata": {},
   "outputs": [],
   "source": [
    "def update(self, state, action, next_state, reward):\n",
    "    \"\"\"\n",
    "      функция Q-обновления \n",
    "    \"\"\"\n",
    "    # выполняем Q-обновление, \n",
    "    # используем методы getQValue и setQValue\n",
    "    #~~~~~~~~ Ваш код здесь ~~~~~~~~~~~    \n",
    "    #raise NotImplementedError  \n",
    "    Q_max = self.get_value(next_state)\n",
    "    Q_current = self.get_q_value(state, action)\n",
    "    \n",
    "    value = Q_current + self.alpha*(reward + self.discount*Q_max - Q_current)\n",
    "    self.set_q_value(state, action, value)\n",
    "    #~~~~~~~~~~~~~~~~~~~~~~~~~~~~~~~~~~\n",
    "    \n",
    "QLearningAgent.update = update"
   ]
  },
  {
   "cell_type": "markdown",
   "metadata": {},
   "source": [
    "Тестируем нашего агента на задаче Taxi"
   ]
  },
  {
   "cell_type": "code",
   "execution_count": 10,
   "metadata": {},
   "outputs": [],
   "source": [
    "import gym\n",
    "from MyGymEnv import myenv3\n",
    "env = myenv3.Snake(4,4) \n",
    "\n",
    "n_actions = env.action_space.n"
   ]
  },
  {
   "cell_type": "code",
   "execution_count": 11,
   "metadata": {},
   "outputs": [],
   "source": [
    "def play_and_train(env, agent, t_max=10**3):\n",
    "    \"\"\"функция запускает полную игру,\n",
    "    используя стратегию агента (agent.get_action(s))\n",
    "    выполняет обновление агента (agent.update(...))\n",
    "    и возвращает общее вознаграждение\n",
    "    \"\"\"\n",
    "    total_reward = 0.0\n",
    "    s = env.reset()\n",
    "    \n",
    "    for t in range(t_max):\n",
    "        # выбираем действие\n",
    "        # a = \n",
    "        #~~~~~~~~ Ваш код здесь ~~~~~~~~~~~        \n",
    "        #raise NotImplementedError     \n",
    "        a = agent.get_action(s)\n",
    "        #~~~~~~~~~~~~~~~~~~~~~~~~~~~~~~~~~~\n",
    "        next_s, r, done = env.step(a)\n",
    "        \n",
    "        # выполняем обновление стратегии\n",
    "        # agent.update()\n",
    "        #~~~~~~~~ Ваш код здесь ~~~~~~~~~~~        \n",
    "        #raise NotImplementedError  \n",
    "        agent.update(s, a, next_s, r)\n",
    "        #~~~~~~~~~~~~~~~~~~~~~~~~~~~~~~~~~~\n",
    "        \n",
    "        s = next_s\n",
    "        total_reward +=r\n",
    "        if done:\n",
    "            break\n",
    "        \n",
    "    return total_reward"
   ]
  },
  {
   "cell_type": "code",
   "execution_count": 12,
   "metadata": {},
   "outputs": [
    {
     "name": "stdout",
     "output_type": "stream",
     "text": [
      "eps = 0.05 mean reward = 2.5\n",
      "alpha= 0.1\n"
     ]
    },
    {
     "data": {
      "image/png": "[encoded data removed]",
      "text/plain": [
       "<Figure size 432x288 with 1 Axes>"
      ]
     },
     "metadata": {},
     "output_type": "display_data"
    }
   ],
   "source": [
    "import matplotlib.pyplot as plt\n",
    "%matplotlib inline\n",
    "from IPython.display import clear_output\n",
    "\n",
    "agent = QLearningAgent(alpha=0.1, epsilon=0.05,\n",
    "                       discount=0.95,\n",
    "                       get_legal_actions=lambda s: range(\n",
    "                           n_actions))\n",
    "\n",
    "assert 'get_policy' in dir(agent)\n",
    "rewards = []\n",
    "for i in range(5000):\n",
    "    rewards.append(play_and_train(env, agent))\n",
    "\n",
    "    if i % 100 == 0:\n",
    "        clear_output(True)\n",
    "        print('eps =', agent.epsilon,\n",
    "              'mean reward =', np.mean(rewards[-10:]))\n",
    "        print(\"alpha=\", agent.alpha)\n",
    "        plt.plot(rewards)\n",
    "        plt.show()"
   ]
  },
  {
   "cell_type": "markdown",
   "metadata": {},
   "source": [
    "### Проверяем работу агента"
   ]
  },
  {
   "cell_type": "code",
   "execution_count": 13,
   "metadata": {},
   "outputs": [
    {
     "name": "stdout",
     "output_type": "stream",
     "text": [
      "****\n",
      "F**S\n",
      "***S\n",
      "***S\n",
      "7\n"
     ]
    }
   ],
   "source": [
    "from IPython.display import display, clear_output\n",
    "import time\n",
    "s = env.reset()\n",
    "for i in range(100):\n",
    "    a = agent.get_action(s)\n",
    "    s, r, done = env.step(a)\n",
    "    env.render()\n",
    "    time.sleep(0.5)\n",
    "    if done:\n",
    "        print(i)\n",
    "        break\n",
    "    clear_output()"
   ]
  }
 ],
 "metadata": {
  "kernelspec": {
   "display_name": "Python 3",
   "language": "python",
   "name": "python3"
  },
  "language_info": {
   "codemirror_mode": {
    "name": "ipython",
    "version": 3
   },
   "file_extension": ".py",
   "mimetype": "text/x-python",
   "name": "python",
   "nbconvert_exporter": "python",
   "pygments_lexer": "ipython3",
   "version": "3.6.8"
  }
 },
 "nbformat": 4,
 "nbformat_minor": 2
}
